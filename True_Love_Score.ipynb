{
 "cells": [
  {
   "cell_type": "markdown",
   "metadata": {},
   "source": [
    "# Day 3.3: \"Love Score\" Calculator"
   ]
  },
  {
   "cell_type": "code",
   "execution_count": null,
   "metadata": {},
   "outputs": [],
   "source": [
    "print(\"Welcome to the \\\"True Love\\\" Calculator!\")\n",
    "print()\n",
    "print(\"This will test your compatibility with your significant other by counting the number of \" \n",
    "      \"times the letters in \\\"true love\\\" appear in each of your names.\")\n",
    "print()\n",
    "name1 = input(\"What is your name?\\n\")\n",
    "print()\n",
    "name2 = input(\"What is their name?\\n\")\n",
    "print()\n",
    "\n",
    "names = name1.lower() + name2.lower()\n",
    "\n",
    "true_count = 0\n",
    "for x in names:\n",
    "    if x in \"true\":\n",
    "        true_count += 1\n",
    "\n",
    "love_count = 0\n",
    "for x in names:\n",
    "    if x in \"love\":\n",
    "        love_count += 1\n",
    "\n",
    "score = int(str(true_count) + str(love_count))\n",
    "\n",
    "if score < 10 or score > 90:\n",
    "    print(f\"Your score is {score}, you go together like Coke and Mentos\")\n",
    "elif score >= 40 and score <= 50:\n",
    "    print(f\"Your score is {score}, you are alright together\")\n",
    "else:\n",
    "    print(f\"Your score is {score}\")"
   ]
  },
  {
   "cell_type": "code",
   "execution_count": null,
   "metadata": {},
   "outputs": [],
   "source": []
  }
 ],
 "metadata": {
  "kernelspec": {
   "display_name": "Python 3",
   "language": "python",
   "name": "python3"
  },
  "language_info": {
   "codemirror_mode": {
    "name": "ipython",
    "version": 3
   },
   "file_extension": ".py",
   "mimetype": "text/x-python",
   "name": "python",
   "nbconvert_exporter": "python",
   "pygments_lexer": "ipython3",
   "version": "3.7.6"
  }
 },
 "nbformat": 4,
 "nbformat_minor": 4
}
